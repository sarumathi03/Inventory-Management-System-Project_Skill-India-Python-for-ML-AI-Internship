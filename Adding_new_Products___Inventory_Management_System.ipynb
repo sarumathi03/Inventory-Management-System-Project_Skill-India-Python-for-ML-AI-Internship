{
  "nbformat": 4,
  "nbformat_minor": 0,
  "metadata": {
    "colab": {
      "name": "Adding new Products _ Inventory Management System.ipynb",
      "provenance": [],
      "authorship_tag": "ABX9TyM9Z1ffii90L5Xvj7pDVgAV",
      "include_colab_link": true
    },
    "kernelspec": {
      "name": "python3",
      "display_name": "Python 3"
    },
    "language_info": {
      "name": "python"
    }
  },
  "cells": [
    {
      "cell_type": "markdown",
      "metadata": {
        "id": "view-in-github",
        "colab_type": "text"
      },
      "source": [
        "<a href=\"https://colab.research.google.com/github/sarumathi03/Inventory-Management-System-Project_Skill-India-Python-for-ML-AI-Internship/blob/main/Adding_new_Products___Inventory_Management_System.ipynb\" target=\"_parent\"><img src=\"https://colab.research.google.com/assets/colab-badge.svg\" alt=\"Open In Colab\"/></a>"
      ]
    },
    {
      "cell_type": "code",
      "metadata": {
        "id": "b98oGVQtfjFj"
      },
      "source": [
        "fd = open(\"record.json\",'r')\n",
        "r = fd.read()\n",
        "fd.close()"
      ],
      "execution_count": null,
      "outputs": []
    },
    {
      "cell_type": "code",
      "metadata": {
        "id": "k8zMvnMbfg7q"
      },
      "source": [
        "import json"
      ],
      "execution_count": null,
      "outputs": []
    },
    {
      "cell_type": "code",
      "metadata": {
        "id": "cqBmvLVDyvU-"
      },
      "source": [
        "record=json.loads(r)"
      ],
      "execution_count": null,
      "outputs": []
    },
    {
      "cell_type": "code",
      "metadata": {
        "id": "lE_rIRgkfpwU",
        "colab": {
          "base_uri": "https://localhost:8080/"
        },
        "outputId": "8f11dae9-b013-452b-af89-61f7b443a53a"
      },
      "source": [
        "record"
      ],
      "execution_count": null,
      "outputs": [
        {
          "output_type": "execute_result",
          "data": {
            "text/plain": [
              "{'01': {'name': 'Munch', 'pr': 50, 'qn': 100},\n",
              " '02': {'name': 'KitKat', 'pr': 75, 'qn': 100},\n",
              " '03': {'name': 'Dark fantasy', 'pr': 30, 'qn': 100},\n",
              " '04': {'name': 'Dairy milk', 'pr': 150, 'qn': 120},\n",
              " '05': {'name': 'Butterscotch Cake', 'pr': 400, 'qn': 150},\n",
              " '06': {'name': 'Dairy shots', 'pr': 40, 'qn': 70},\n",
              " '07': {'name': 'Frooti', 'pr': 80, 'qn': 70},\n",
              " '08': {'name': 'Laptop', 'pr': 70000, 'qn': 100},\n",
              " '09': {'name': 'Samsung Mobile', 'pr': 20000, 'qn': 100},\n",
              " '10': {'name': 'Black forest cake', 'pr': 850, 'qn': 110},\n",
              " '11': {'name': 'Snickers', 'pr': 40, 'qn': 80},\n",
              " '12': {'name': 'Milkybar', 'pr': 85, 'qn': 100},\n",
              " '13': {'name': 'Perk', 'pr': 40, 'qn': 80},\n",
              " '14': {'name': 'Poppins ', 'pr': 25, 'qn': 70},\n",
              " '15': {'name': 'Melody Chocolate', 'pr': 60, 'qn': 90},\n",
              " '16': {'name': 'Pen', 'pr': 50, 'qn': 100},\n",
              " '17': {'name': 'Lemon coconut cake', 'pr': 950, 'qn': 130},\n",
              " '18': {'name': 'Bovonto', 'pr': 70, 'qn': 80},\n",
              " '19': {'name': 'Miranda', 'pr': 60, 'qn': 70},\n",
              " '20': {'name': 'Sunfeast Biscuits', 'pr': 30, 'qn': 90},\n",
              " '21': {'name': 'Bourbon', 'pr': 40, 'qn': 90},\n",
              " '22': {'name': 'Good Day', 'pr': 30, 'qn': 100},\n",
              " '23': {'name': 'Cadbury Oreo', 'pr': 70, 'qn': 100},\n",
              " '24': {'name': 'Horlicks', 'pr': 195, 'qn': 120},\n",
              " '25': {'name': 'Boost', 'pr': 200, 'qn': 110},\n",
              " '26': {'name': 'Complan', 'pr': 210, 'qn': 130},\n",
              " '27': {'name': 'Headphones', 'pr': 400, 'qn': 100},\n",
              " '28': {'name': 'Pencil', 'pr': 10, 'qn': 100},\n",
              " '29': {'name': 'Britannia Milk Bikis Biscuits ', 'pr': 40, 'qn': 110},\n",
              " '30': {'name': ' Flourless chocolate cake', 'pr': 800, 'qn': 100}}"
            ]
          },
          "metadata": {},
          "execution_count": 34
        }
      ]
    },
    {
      "cell_type": "markdown",
      "metadata": {
        "id": "AOS-LKH7fwDy"
      },
      "source": [
        "**Adding New items into inventory**"
      ]
    },
    {
      "cell_type": "code",
      "metadata": {
        "id": "vUHFBv1EfvlZ",
        "colab": {
          "base_uri": "https://localhost:8080/"
        },
        "outputId": "95a7fefb-4748-4e34-ed94-fe96377f2df5"
      },
      "source": [
        "prod_id = str(input(\"Enter product id:\"))\n",
        "name = str(input(\"Enter name:\"))\n",
        "pr = int(input(\"Enter price:\"))\n",
        "qn = int(input(\"Enter quantity:\"))\n",
        "\n",
        "record[prod_id] = {'name': name, 'pr': pr, 'qn': qn}\n",
        "\n",
        "js = json.dumps(record)\n",
        "\n",
        "fd = open(\"record.json\",'w')\n",
        "fd.write(js)\n",
        "fd.close()"
      ],
      "execution_count": null,
      "outputs": [
        {
          "name": "stdout",
          "output_type": "stream",
          "text": [
            "Enter product id:41\n",
            "Enter name:Eraser\n",
            "Enter price:20\n",
            "Enter quantity:100\n"
          ]
        }
      ]
    },
    {
      "cell_type": "code",
      "metadata": {
        "id": "7S23Y0Ydf_Vi",
        "colab": {
          "base_uri": "https://localhost:8080/"
        },
        "outputId": "6a654caf-3675-43fc-e440-624ec5027427"
      },
      "source": [
        "record"
      ],
      "execution_count": null,
      "outputs": [
        {
          "output_type": "execute_result",
          "data": {
            "text/plain": [
              "{'01': {'name': 'Munch', 'pr': 50, 'qn': 100},\n",
              " '02': {'name': 'KitKat', 'pr': 75, 'qn': 100},\n",
              " '03': {'name': 'Dark fantasy', 'pr': 30, 'qn': 100},\n",
              " '04': {'name': 'Dairy milk', 'pr': 150, 'qn': 120},\n",
              " '05': {'name': 'Butterscotch Cake', 'pr': 400, 'qn': 150},\n",
              " '06': {'name': 'Dairy shots', 'pr': 40, 'qn': 70},\n",
              " '07': {'name': 'Frooti', 'pr': 80, 'qn': 70},\n",
              " '08': {'name': 'Laptop', 'pr': 70000, 'qn': 100},\n",
              " '09': {'name': 'Samsung Mobile', 'pr': 20000, 'qn': 100},\n",
              " '10': {'name': 'Black forest cake', 'pr': 850, 'qn': 110},\n",
              " '11': {'name': 'Snickers', 'pr': 40, 'qn': 80},\n",
              " '12': {'name': 'Milkybar', 'pr': 85, 'qn': 100},\n",
              " '13': {'name': 'Perk', 'pr': 40, 'qn': 80},\n",
              " '14': {'name': 'Poppins ', 'pr': 25, 'qn': 70},\n",
              " '15': {'name': 'Melody Chocolate', 'pr': 60, 'qn': 90},\n",
              " '16': {'name': 'Pen', 'pr': 50, 'qn': 100},\n",
              " '17': {'name': 'Lemon coconut cake', 'pr': 950, 'qn': 130},\n",
              " '18': {'name': 'Bovonto', 'pr': 70, 'qn': 80},\n",
              " '19': {'name': 'Miranda', 'pr': 60, 'qn': 70},\n",
              " '20': {'name': 'Sunfeast Biscuits', 'pr': 30, 'qn': 90},\n",
              " '21': {'name': 'Bourbon', 'pr': 40, 'qn': 90},\n",
              " '22': {'name': 'Good Day', 'pr': 30, 'qn': 100},\n",
              " '23': {'name': 'Cadbury Oreo', 'pr': 70, 'qn': 100},\n",
              " '24': {'name': 'Horlicks', 'pr': 195, 'qn': 120},\n",
              " '25': {'name': 'Boost', 'pr': 200, 'qn': 110},\n",
              " '26': {'name': 'Complan', 'pr': 210, 'qn': 130},\n",
              " '27': {'name': 'Headphones', 'pr': 400, 'qn': 100},\n",
              " '28': {'name': 'Pencil', 'pr': 10, 'qn': 100},\n",
              " '29': {'name': 'Britannia Milk Bikis Biscuits ', 'pr': 40, 'qn': 110},\n",
              " '30': {'name': ' Flourless chocolate cake', 'pr': 800, 'qn': 100},\n",
              " '31': {'name': 'Gems Chocolate', 'pr': 25, 'qn': 90},\n",
              " '32': {'name': 'Pantene Shampoo', 'pr': 50, 'qn': 100},\n",
              " '33': {'name': 'Himalaya Shampoo', 'pr': 60, 'qn': 100},\n",
              " '34': {'name': 'Butter Biscuit', 'pr': 70, 'qn': 110},\n",
              " '35': {'name': 'Brown rice', 'pr': 150, 'qn': 180},\n",
              " '36': {'name': 'Marcona Almonds', 'pr': 200, 'qn': 150},\n",
              " '37': {'name': 'Cashews', 'pr': 190, 'qn': 150},\n",
              " '38': {'name': 'Wonder cake', 'pr': 45, 'qn': 100},\n",
              " '39': {'name': 'White Rice', 'pr': 150, 'qn': 200},\n",
              " '40': {'name': 'Cake Slice ice cream', 'pr': 50, 'qn': 100},\n",
              " '41': {'name': 'Eraser', 'pr': 20, 'qn': 100}}"
            ]
          },
          "metadata": {},
          "execution_count": 49
        }
      ]
    }
  ]
}
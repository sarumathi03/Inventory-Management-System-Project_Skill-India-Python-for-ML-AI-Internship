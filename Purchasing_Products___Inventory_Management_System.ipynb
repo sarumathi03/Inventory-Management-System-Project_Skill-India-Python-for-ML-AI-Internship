{
  "nbformat": 4,
  "nbformat_minor": 0,
  "metadata": {
    "colab": {
      "name": "Purchasing Products _ Inventory Management System.ipynb",
      "provenance": [],
      "authorship_tag": "ABX9TyP2XfRayA9nl9ttNlPTcGPh",
      "include_colab_link": true
    },
    "kernelspec": {
      "name": "python3",
      "display_name": "Python 3"
    },
    "language_info": {
      "name": "python"
    }
  },
  "cells": [
    {
      "cell_type": "markdown",
      "metadata": {
        "id": "view-in-github",
        "colab_type": "text"
      },
      "source": [
        "<a href=\"https://colab.research.google.com/github/sarumathi03/Inventory-Management-System-Project_Skill-India-Python-for-ML-AI-Internship/blob/main/Purchasing_Products___Inventory_Management_System.ipynb\" target=\"_parent\"><img src=\"https://colab.research.google.com/assets/colab-badge.svg\" alt=\"Open In Colab\"/></a>"
      ]
    },
    {
      "cell_type": "markdown",
      "metadata": {
        "id": "sef73tmZ6Pij"
      },
      "source": [
        "**Read Inventory**\n"
      ]
    },
    {
      "cell_type": "code",
      "metadata": {
        "id": "Sl2PpEzq6TIb"
      },
      "source": [
        "fd=open(\"record.json\",\"r\")\n",
        "r=fd.read()\n",
        "fd.close()"
      ],
      "execution_count": null,
      "outputs": []
    },
    {
      "cell_type": "code",
      "metadata": {
        "id": "c3afyJXPD4b8"
      },
      "source": [
        "import json"
      ],
      "execution_count": null,
      "outputs": []
    },
    {
      "cell_type": "code",
      "metadata": {
        "id": "KDkTGP9vD5xB"
      },
      "source": [
        "records=json.loads(r)"
      ],
      "execution_count": null,
      "outputs": []
    },
    {
      "cell_type": "code",
      "metadata": {
        "colab": {
          "base_uri": "https://localhost:8080/"
        },
        "id": "H9B95EKVEKGW",
        "outputId": "55abe9a3-8a86-4a98-ce12-3539692addaf"
      },
      "source": [
        "records"
      ],
      "execution_count": null,
      "outputs": [
        {
          "output_type": "execute_result",
          "data": {
            "text/plain": [
              "{'01': {'name': 'Munch', 'pr': 50, 'qn': 100},\n",
              " '02': {'name': 'KitKat', 'pr': 75, 'qn': 100},\n",
              " '03': {'name': 'Dark fantasy', 'pr': 30, 'qn': 100},\n",
              " '04': {'name': 'Dairy milk', 'pr': 150, 'qn': 120},\n",
              " '05': {'name': 'Butterscotch Cake', 'pr': 400, 'qn': 150},\n",
              " '06': {'name': 'Dairy shots', 'pr': 40, 'qn': 70},\n",
              " '07': {'name': 'Frooti', 'pr': 80, 'qn': 70},\n",
              " '08': {'name': 'Laptop', 'pr': 70000, 'qn': 100},\n",
              " '09': {'name': 'Samsung Mobile', 'pr': 20000, 'qn': 100},\n",
              " '10': {'name': 'Black forest cake', 'pr': 850, 'qn': 110},\n",
              " '11': {'name': 'Snickers', 'pr': 40, 'qn': 80},\n",
              " '12': {'name': 'Milkybar', 'pr': 85, 'qn': 100},\n",
              " '13': {'name': 'Perk', 'pr': 40, 'qn': 80},\n",
              " '14': {'name': 'Poppins ', 'pr': 25, 'qn': 70},\n",
              " '15': {'name': 'Melody Chocolate', 'pr': 60, 'qn': 90},\n",
              " '16': {'name': 'Pen', 'pr': 50, 'qn': 100},\n",
              " '17': {'name': 'Lemon coconut cake', 'pr': 950, 'qn': 130},\n",
              " '18': {'name': 'Bovonto', 'pr': 70, 'qn': 80},\n",
              " '19': {'name': 'Miranda', 'pr': 60, 'qn': 70},\n",
              " '20': {'name': 'Sunfeast Biscuits', 'pr': 30, 'qn': 90},\n",
              " '21': {'name': 'Bourbon', 'pr': 40, 'qn': 90},\n",
              " '22': {'name': 'Good Day', 'pr': 30, 'qn': 100},\n",
              " '23': {'name': 'Cadbury Oreo', 'pr': 70, 'qn': 100},\n",
              " '24': {'name': 'Horlicks', 'pr': 195, 'qn': 120},\n",
              " '25': {'name': 'Boost', 'pr': 200, 'qn': 110},\n",
              " '26': {'name': 'Complan', 'pr': 210, 'qn': 130},\n",
              " '27': {'name': 'Headphones', 'pr': 400, 'qn': 100},\n",
              " '28': {'name': 'Pencil', 'pr': 10, 'qn': 100},\n",
              " '29': {'name': 'Britannia Milk Bikis Biscuits ', 'pr': 40, 'qn': 110},\n",
              " '30': {'name': ' Flourless chocolate cake', 'pr': 800, 'qn': 100}}"
            ]
          },
          "metadata": {},
          "execution_count": 4
        }
      ]
    },
    {
      "cell_type": "markdown",
      "metadata": {
        "id": "u8vxcUHAESr6"
      },
      "source": [
        "**Purchasing Products**\n"
      ]
    },
    {
      "cell_type": "code",
      "metadata": {
        "colab": {
          "base_uri": "https://localhost:8080/"
        },
        "id": "hy4pllGAE36_",
        "outputId": "d7e49769-32ee-4dba-a529-64356e74c89e"
      },
      "source": [
        "ui_prod = str(input(\"Enter the product ID : \"))\n",
        "ui_quant = int(input(\"Enter the quantity : \"))\n",
        "print(\"Product : \",records[ui_prod]['name'])\n",
        "print(\"Price : \",records[ui_prod]['pr'])\n",
        "print(\"Amount : \",records[ui_prod]['pr']*ui_quant)\n",
        "records[ui_prod]['qn'] = records[ui_prod]['qn'] - ui_quant"
      ],
      "execution_count": null,
      "outputs": [
        {
          "output_type": "stream",
          "name": "stdout",
          "text": [
            "Enter the product ID : 10\n",
            "Enter the quantity : 4\n",
            "Product :  Black forest cake\n",
            "Price :  850\n",
            "Amount :  3400\n"
          ]
        }
      ]
    },
    {
      "cell_type": "markdown",
      "metadata": {
        "id": "1U-Ojq2HFLKN"
      },
      "source": [
        "**Update Inventory after purchase**"
      ]
    },
    {
      "cell_type": "code",
      "metadata": {
        "id": "fmnwVpXMFMlw"
      },
      "source": [
        "js = json.dumps(records)\n",
        "fd=open(\"record.json\",\"w\")\n",
        "fd.write(js)\n",
        "fd.close()"
      ],
      "execution_count": null,
      "outputs": []
    },
    {
      "cell_type": "markdown",
      "metadata": {
        "id": "uBEFzVb2FSHS"
      },
      "source": [
        "**Sales JSON**"
      ]
    },
    {
      "cell_type": "code",
      "metadata": {
        "colab": {
          "base_uri": "https://localhost:8080/"
        },
        "id": "B-4-TBSLGcNI",
        "outputId": "bbc3dad9-efdc-4d42-e982-60447a08641f"
      },
      "source": [
        "{'Product':ui_prod,\"Quantity\":ui_quant,\"Amount\":records[ui_prod]['pr']*ui_quant}"
      ],
      "execution_count": null,
      "outputs": [
        {
          "output_type": "execute_result",
          "data": {
            "text/plain": [
              "{'Amount': 3400, 'Product': '10', 'Quantity': 4}"
            ]
          },
          "metadata": {},
          "execution_count": 20
        }
      ]
    },
    {
      "cell_type": "code",
      "metadata": {
        "id": "-Qjs2GJHGgXB"
      },
      "source": [
        "sales={1:{\"Product\":ui_prod,\"Quantity\":ui_quant,\"Amount\":records[ui_prod]['pr']*ui_quant},\n",
        "      2:{\"Product\":ui_prod,\"Quantity\":ui_quant,\"Amount\":records[ui_prod]['pr']*ui_quant},\n",
        "      3:{\"Product\":ui_prod,\"Quantity\":ui_quant,\"Amount\":records[ui_prod]['pr']*ui_quant}}"
      ],
      "execution_count": null,
      "outputs": []
    },
    {
      "cell_type": "code",
      "metadata": {
        "colab": {
          "base_uri": "https://localhost:8080/",
          "height": 35
        },
        "id": "11_lgmwFGmiK",
        "outputId": "48bd176c-f5f2-459e-a497-44ec446e83f5"
      },
      "source": [
        "json.dumps(sales)"
      ],
      "execution_count": null,
      "outputs": [
        {
          "output_type": "execute_result",
          "data": {
            "application/vnd.google.colaboratory.intrinsic+json": {
              "type": "string"
            },
            "text/plain": [
              "'{\"1\": {\"Product\": \"10\", \"Quantity\": 4, \"Amount\": 3400}, \"2\": {\"Product\": \"10\", \"Quantity\": 4, \"Amount\": 3400}, \"3\": {\"Product\": \"10\", \"Quantity\": 4, \"Amount\": 3400}}'"
            ]
          },
          "metadata": {},
          "execution_count": 22
        }
      ]
    },
    {
      "cell_type": "code",
      "metadata": {
        "id": "lf4KTOONGsWZ"
      },
      "source": [
        "fd=open(\"record.json\",\"r\")\n",
        "r=fd.read()\n",
        "fd.close()"
      ],
      "execution_count": null,
      "outputs": []
    },
    {
      "cell_type": "code",
      "metadata": {
        "colab": {
          "base_uri": "https://localhost:8080/"
        },
        "id": "7QrOxAe5Gy0S",
        "outputId": "b2aecebf-b15a-4fc9-e013-b3503850e544"
      },
      "source": [
        "{(len(sales)+1) : {'Product':ui_prod,\"Quantity\":ui_quant,\"Amount\":records[ui_prod]['pr']*ui_quant}}"
      ],
      "execution_count": null,
      "outputs": [
        {
          "output_type": "execute_result",
          "data": {
            "text/plain": [
              "{4: {'Amount': 3400, 'Product': '10', 'Quantity': 4}}"
            ]
          },
          "metadata": {},
          "execution_count": 24
        }
      ]
    },
    {
      "cell_type": "code",
      "metadata": {
        "id": "cX2HENUkG08V"
      },
      "source": [
        "sales[(len(sales)+1)] = {'Product':ui_prod,\"Quantity\":ui_quant,\"Amount\":records[ui_prod]['pr']*ui_quant}"
      ],
      "execution_count": null,
      "outputs": []
    },
    {
      "cell_type": "code",
      "metadata": {
        "id": "3j0mBc9AG58m"
      },
      "source": [
        "sale=json.dumps(sales)"
      ],
      "execution_count": null,
      "outputs": []
    },
    {
      "cell_type": "code",
      "metadata": {
        "id": "JROQe-EeHAs5"
      },
      "source": [
        "fd=open(\"sales.json\",\"w\")\n",
        "r=fd.write(sale)\n",
        "fd.close()"
      ],
      "execution_count": null,
      "outputs": []
    }
  ]
}